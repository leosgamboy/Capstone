{
 "cells": [
  {
   "cell_type": "markdown",
   "id": "7ee8dd08",
   "metadata": {},
   "source": [
    "# 01 Data Cleaning\n",
    "\n",
    "\n"
   ]
  },
  {
   "cell_type": "markdown",
   "id": "12f507f2",
   "metadata": {},
   "source": [
    "Phase 0:"
   ]
  },
  {
   "cell_type": "markdown",
   "id": "bd054b0d",
   "metadata": {},
   "source": [
    "Phase 1\t\n",
    "\t1.\tCompute within / between variance of ND-GAIN at annual frequency (total, between, within, share within). Save a small table and histogram of year-to-year changes (diff1) and report per-country within SD.\n",
    "\t2.\tCount how many countries and how many country-years show substantive ND-GAIN change; identify outliers (big diffs).\n",
    "\t3.\tCompute per-country summary (mean, SD, number of years). Produce a short paragraph interpreting whether FE is likely to be feasible."
   ]
  },
  {
   "cell_type": "code",
   "execution_count": null,
   "id": "e8c492d2",
   "metadata": {},
   "outputs": [],
   "source": []
  },
  {
   "cell_type": "code",
   "execution_count": null,
   "id": "82931855",
   "metadata": {},
   "outputs": [
    {
     "name": "stdout",
     "output_type": "stream",
     "text": [
      "Variance decomposition of ND-GAIN (annual):\n",
      "  Total variance:   116.0202\n",
      "  Between variance: 114.1825\n",
      "  Within variance:  4.5763\n",
      "  Share within:     3.94%\n",
      "\n",
      "Number of country-years with substantive ND-GAIN change (>|0.98|): 178\n",
      "Number of countries with at least one substantive change: 57\n",
      "\n",
      "Top 5 outlier year-to-year changes in ND-GAIN:\n",
      "     iso3c  year  gain_diff1\n",
      "2228   BGD  2014  -11.062157\n",
      "2274   NGA  2014  -10.871986\n",
      "2256   IND  2014   -9.909187\n",
      "2278   PAK  2014   -8.339038\n",
      "2270   MEX  2014   -7.692216\n",
      "\n",
      "Interpretation:\n",
      "The variance decomposition shows that a substantial share of the total variance in ND-GAIN is due to between-country differences, with within-country (over time) variance being relatively smaller. The per-country within SDs are generally low, and only a small number of country-years show substantive changes in ND-GAIN from year to year. This suggests that country fixed effects (FE) models may be feasible, but the limited within-country variation could reduce the power to detect effects of time-varying covariates. Outlier years with large changes should be checked for data quality or exceptional events.\n"
     ]
    }
   ],
   "source": [
    "import pandas as pd\n",
    "import numpy as np\n",
    "import matplotlib.pyplot as plt\n",
    "\n",
    "# Load the data\n",
    "df = pd.read_csv('/Users/leosgambato/Documents/GitHub/Capstone/data/processed/baseline_with_gain.csv')\n",
    "\n",
    "# Clean up: drop rows where 'gain' is missing or iso3c is missing\n",
    "df = df.dropna(subset=['gain', 'iso3c','sovereign_spread'])\n",
    "\n",
    "# 1. Compute within / between variance of Gain at annual frequency\n",
    "\n",
    "# Compute overall mean\n",
    "overall_mean = df['gain'].mean()\n",
    "\n",
    "# Compute per-country mean\n",
    "country_means = df.groupby('iso3c')['gain'].mean()\n",
    "\n",
    "# Merge country means back to df\n",
    "df = df.merge(country_means.rename('country_mean'), left_on='iso3c', right_index=True)\n",
    "\n",
    "# Between variance: variance of country means\n",
    "between_var = country_means.var(ddof=0)\n",
    "\n",
    "# Within variance: mean of per-country variances\n",
    "within_var = df.groupby('iso3c')['gain'].var(ddof=0).mean()\n",
    "\n",
    "# Total variance\n",
    "total_var = df['gain'].var(ddof=0)\n",
    "\n",
    "# Share within\n",
    "share_within = within_var / total_var if total_var > 0 else np.nan\n",
    "\n",
    "print(\"Variance decomposition of ND-GAIN (annual):\")\n",
    "print(f\"  Total variance:   {total_var:.4f}\")\n",
    "print(f\"  Between variance: {between_var:.4f}\")\n",
    "print(f\"  Within variance:  {within_var:.4f}\")\n",
    "print(f\"  Share within:     {share_within:.2%}\")\n",
    "\n",
    "# 2. Histogram and table of year-to-year changes (diff1), per-country within SD\n",
    "\n",
    "# Sort for diff calculation\n",
    "df = df.sort_values(['iso3c', 'year'])\n",
    "\n",
    "# Compute year-to-year difference\n",
    "df['gain_diff1'] = df.groupby('iso3c')['gain'].diff()\n",
    "\n",
    "# Table of year-to-year changes (drop NA)\n",
    "diff1_table = df[['iso3c', 'year', 'gain_diff1']].dropna()\n",
    "\n",
    "# Save small table (first 10 rows as example)\n",
    "diff1_table.head(10).to_csv('/Users/leosgambato/Documents/GitHub/Capstone/outputs/gain_diff1_sample.csv', index=False)\n",
    "\n",
    "# Histogram of all year-to-year changes\n",
    "plt.figure(figsize=(8,5))\n",
    "plt.hist(diff1_table['gain_diff1'], bins=30, edgecolor='k')\n",
    "plt.title('Histogram of Year-to-Year Changes in ND-GAIN')\n",
    "plt.xlabel('Year-to-Year Change (diff1)')\n",
    "plt.ylabel('Frequency')\n",
    "plt.tight_layout()\n",
    "plt.savefig('/Users/leosgambato/Documents/GitHub/Capstone/outputs/gain_diff1_hist.png')\n",
    "plt.close()\n",
    "\n",
    "# Per-country within SD\n",
    "country_within_sd = df.groupby('iso3c')['gain'].std().rename('within_sd')\n",
    "country_within_sd = country_within_sd.reset_index()\n",
    "country_within_sd.head(10).to_csv('/Users/leosgambato/Documents/GitHub/Capstone/outputs/gain_within_sd_sample.csv', index=False)\n",
    "\n",
    "# 2. Count countries and country-years with substantive ND-GAIN change; identify outliers\n",
    "\n",
    "# Define substantive change threshold (e.g., > 1 SD of all diffs)\n",
    "diff1_sd = diff1_table['gain_diff1'].std()\n",
    "substantive_thresh = diff1_sd\n",
    "\n",
    "# Count country-years with |diff1| > threshold\n",
    "substantive_changes = diff1_table[np.abs(diff1_table['gain_diff1']) > substantive_thresh]\n",
    "n_substantive = len(substantive_changes)\n",
    "n_countries = substantive_changes['iso3c'].nunique()\n",
    "\n",
    "print(f\"\\nNumber of country-years with substantive ND-GAIN change (>|{substantive_thresh:.2f}|): {n_substantive}\")\n",
    "print(f\"Number of countries with at least one substantive change: {n_countries}\")\n",
    "\n",
    "# Identify outliers (e.g., top 5 biggest absolute diffs)\n",
    "outliers = diff1_table.reindex(diff1_table['gain_diff1'].abs().sort_values(ascending=False).index).head(5)\n",
    "print(\"\\nTop 5 outlier year-to-year changes in ND-GAIN:\")\n",
    "print(outliers)\n",
    "\n",
    "# 3. Per-country summary (mean, SD, number of years)\n",
    "country_summary = df.groupby('iso3c').agg(\n",
    "    mean_gain=('gain', 'mean'),\n",
    "    sd_gain=('gain', 'std'),\n",
    "    n_years=('gain', 'count')\n",
    ").reset_index()\n",
    "\n",
    "country_summary.head(10).to_csv('/Users/leosgambato/Documents/GitHub/Capstone/outputs/gain_country_summary_sample.csv', index=False)\n",
    "\n",
    "# Short paragraph interpreting FE feasibility\n",
    "print(\"\\nInterpretation:\")\n",
    "print(\"The variance decomposition shows that a substantial share of the total variance in ND-GAIN is due to between-country differences, with within-country (over time) variance being relatively smaller. The per-country within SDs are generally low, and only a small number of country-years show substantive changes in ND-GAIN from year to year. This suggests that country fixed effects (FE) models may be feasible, but the limited within-country variation could reduce the power to detect effects of time-varying covariates. Outlier years with large changes should be checked for data quality or exceptional events.\")\n"
   ]
  },
  {
   "cell_type": "markdown",
   "id": "7889a28e",
   "metadata": {},
   "source": [
    "### Data cleaning, Exploratory analysis, creating lags etc. \n"
   ]
  },
  {
   "cell_type": "code",
   "execution_count": 11,
   "id": "cc51f909",
   "metadata": {},
   "outputs": [
    {
     "name": "stdout",
     "output_type": "stream",
     "text": [
      "\n",
      "Missing values summary:\n",
      "cpi_yoy                   267\n",
      "wgi_cc                    144\n",
      "wgi_ge                    144\n",
      "wgi_pv                    144\n",
      "wgi_rl                    144\n",
      "wgi_rq                    144\n",
      "wgi_va                    144\n",
      "gain_diff1                 67\n",
      "gdp_annual_growth_rate     66\n",
      "debt_to_gdp                11\n",
      "dtype: int64\n",
      "\n",
      "Dataset ready for analysis!\n"
     ]
    }
   ],
   "source": [
    "# Check for any remaining missing values\n",
    "print(f\"\\nMissing values summary:\")\n",
    "missing_summary = df.isnull().sum()\n",
    "missing_summary = missing_summary[missing_summary > 0].sort_values(ascending=False)\n",
    "if len(missing_summary) > 0:\n",
    "    print(missing_summary)\n",
    "else:\n",
    "    print(\"No missing values in the dataset\")\n",
    "\n",
    "print(\"\\nDataset ready for analysis!\")\n"
   ]
  },
  {
   "cell_type": "code",
   "execution_count": null,
   "id": "5efa82be",
   "metadata": {},
   "outputs": [],
   "source": []
  }
 ],
 "metadata": {
  "kernelspec": {
   "display_name": "Python 3",
   "language": "python",
   "name": "python3"
  },
  "language_info": {
   "codemirror_mode": {
    "name": "ipython",
    "version": 3
   },
   "file_extension": ".py",
   "mimetype": "text/x-python",
   "name": "python",
   "nbconvert_exporter": "python",
   "pygments_lexer": "ipython3",
   "version": "3.9.6"
  }
 },
 "nbformat": 4,
 "nbformat_minor": 5
}
