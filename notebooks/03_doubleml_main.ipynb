{
 "cells": [
  {
   "cell_type": "markdown",
   "id": "37af4575",
   "metadata": {},
   "source": [
    "# 03 Double Machine Learning Main Analysis\n",
    "\n",
    "This notebook implements the Double Machine Learning (DML) methodology using the `doubleml` package. The goal is to estimate the causal effect of the ND-GAIN vulnerability score on 10-year sovereign bond yields.\n"
   ]
  },
  {
   "cell_type": "code",
   "execution_count": null,
   "id": "440abc18",
   "metadata": {},
   "outputs": [],
   "source": [
    "\n",
    "import pandas as pd\n",
    "from doubleml import DoubleMLData, DoubleMLPLR\n",
    "from sklearn.ensemble import RandomForestRegressor\n",
    "\n",
    "# Load merged dataset\n",
    "merged = pd.read_csv('../data/merged_panel.csv')\n",
    "\n",
    "# Define outcome, treatment, and controls\n",
    "y_col = 'bond_yield'\n",
    "d_col = 'nd_gain'\n",
    "\n",
    "# Define control variables (update this list with actual controls)\n",
    "control_cols = [col for col in merged.columns if col not in ['iso3c', 'date', y_col, d_col]]\n",
    "\n",
    "# Drop rows with missing values in the selected columns\n",
    "model_data = merged.dropna(subset=[y_col, d_col] + control_cols)\n",
    "\n",
    "# Create DoubleMLData object\n",
    "dml_data = DoubleMLData(model_data, y_col=y_col, d_cols=d_col, x_cols=control_cols)\n",
    "\n",
    "# Specify machine learning models for nuisance parameters\n",
    "ml_model = RandomForestRegressor(n_estimators=500, max_depth=5, random_state=42)\n",
    "\n",
    "# Initialize DML model (Partially Linear Regression)\n",
    "dml_plr = DoubleMLPLR(dml_data, ml_g=ml_model, ml_m=ml_model)\n",
    "\n",
    "# Fit the model\n",
    "dml_plr.fit()\n",
    "\n",
    "# Display results\n",
    "print(dml_plr.summary)\n"
   ]
  }
 ],
 "metadata": {},
 "nbformat": 4,
 "nbformat_minor": 5
}
