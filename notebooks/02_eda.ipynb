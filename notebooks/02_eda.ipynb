{
 "cells": [
  {
   "cell_type": "markdown",
   "id": "7ee8dd08",
   "metadata": {},
   "source": [
    "# 02 Exploratory Data Analysis\n",
    "\n",
    "This notebook generates descriptive statistics and plots to explore the merged panel dataset.\n"
   ]
  },
  {
   "cell_type": "code",
   "execution_count": 4,
   "id": "874e7f15",
   "metadata": {},
   "outputs": [
    {
     "data": {
      "text/html": [
       "<div>\n",
       "<style scoped>\n",
       "    .dataframe tbody tr th:only-of-type {\n",
       "        vertical-align: middle;\n",
       "    }\n",
       "\n",
       "    .dataframe tbody tr th {\n",
       "        vertical-align: top;\n",
       "    }\n",
       "\n",
       "    .dataframe thead th {\n",
       "        text-align: right;\n",
       "    }\n",
       "</style>\n",
       "<table border=\"1\" class=\"dataframe\">\n",
       "  <thead>\n",
       "    <tr style=\"text-align: right;\">\n",
       "      <th></th>\n",
       "      <th>iso3</th>\n",
       "      <th>GAIN</th>\n",
       "      <th>date</th>\n",
       "    </tr>\n",
       "  </thead>\n",
       "  <tbody>\n",
       "    <tr>\n",
       "      <th>0</th>\n",
       "      <td>AFG</td>\n",
       "      <td>-5.919105</td>\n",
       "      <td>1995-01-01</td>\n",
       "    </tr>\n",
       "    <tr>\n",
       "      <th>1</th>\n",
       "      <td>ALB</td>\n",
       "      <td>-0.014547</td>\n",
       "      <td>1995-01-01</td>\n",
       "    </tr>\n",
       "    <tr>\n",
       "      <th>2</th>\n",
       "      <td>DZA</td>\n",
       "      <td>1.853878</td>\n",
       "      <td>1995-01-01</td>\n",
       "    </tr>\n",
       "    <tr>\n",
       "      <th>3</th>\n",
       "      <td>AND</td>\n",
       "      <td>NaN</td>\n",
       "      <td>1995-01-01</td>\n",
       "    </tr>\n",
       "    <tr>\n",
       "      <th>4</th>\n",
       "      <td>AGO</td>\n",
       "      <td>-7.255131</td>\n",
       "      <td>1995-01-01</td>\n",
       "    </tr>\n",
       "  </tbody>\n",
       "</table>\n",
       "</div>"
      ],
      "text/plain": [
       "  iso3      GAIN       date\n",
       "0  AFG -5.919105 1995-01-01\n",
       "1  ALB -0.014547 1995-01-01\n",
       "2  DZA  1.853878 1995-01-01\n",
       "3  AND       NaN 1995-01-01\n",
       "4  AGO -7.255131 1995-01-01"
      ]
     },
     "execution_count": 4,
     "metadata": {},
     "output_type": "execute_result"
    }
   ],
   "source": [
    "import pandas as pd\n",
    "\n",
    "# Load the data\n",
    "gain = pd.read_csv(\"/Users/leosgambato/Documents/GitHub/Capstone/data/external/Data/nd_gain_countryindex_2025/resources/gain/gain_delta.csv\")\n",
    "\n",
    "# The data columns are: ISO3, Name, 1995, 1996, ..., 2023\n",
    "# We want to reshape so that we have columns: iso3, date, GAIN\n",
    "\n",
    "# Rename columns for consistency\n",
    "gain = gain.rename(columns={'ISO3': 'iso3'})\n",
    "\n",
    "# Melt the dataframe to long format: iso3, Name, year, GAIN\n",
    "gain_long = gain.melt(\n",
    "    id_vars=['iso3', 'Name'],\n",
    "    var_name='year',\n",
    "    value_name='GAIN'\n",
    ")\n",
    "\n",
    "# Convert year to integer, then to datetime (start of January)\n",
    "gain_long['date'] = pd.to_datetime(gain_long['year'], format='%Y')\n",
    "\n",
    "# Keep only iso3, GAIN, and date columns\n",
    "gain_long = gain_long[['iso3', 'GAIN', 'date']]\n",
    "\n",
    "# Preview cleaned data\n",
    "gain_long.head()\n",
    "\n"
   ]
  },
  {
   "cell_type": "code",
   "execution_count": 7,
   "id": "9f6fdf1d",
   "metadata": {},
   "outputs": [
    {
     "name": "stdout",
     "output_type": "stream",
     "text": [
      "Total var = 60.853755, Between = 52.909917, Within = 7.943838\n",
      "Share within = 13.05%\n"
     ]
    }
   ],
   "source": [
    "import pandas as pd\n",
    "import numpy as np\n",
    "\n",
    "# df: country-month panel\n",
    "# ensure date is datetime and data sorted\n",
    "gain_long['date'] = pd.to_datetime(gain_long['date'])\n",
    "gain_long = gain_long.sort_values(['iso3','date'])\n",
    "\n",
    "# treatment column name\n",
    "tcol = 'GAIN'  # replace with your ND-GAIN column name\n",
    "\n",
    "# total variance\n",
    "total_var = gain_long[tcol].var(ddof=1)\n",
    "\n",
    "# between variance: variance of country means (across countries)\n",
    "country_means = gain_long.groupby('iso3')[tcol].mean()\n",
    "between_var = country_means.var(ddof=1)\n",
    "\n",
    "# within variance = total - between (can be slightly negative numerically -> clip to 0)\n",
    "within_var = max(total_var - between_var, 0.0)\n",
    "\n",
    "within_share = within_var / total_var if total_var != 0 else np.nan\n",
    "\n",
    "print(f\"Total var = {total_var:.6f}, Between = {between_var:.6f}, Within = {within_var:.6f}\")\n",
    "print(f\"Share within = {within_share:.2%}\")"
   ]
  },
  {
   "cell_type": "code",
   "execution_count": 8,
   "id": "aec4aed9",
   "metadata": {},
   "outputs": [],
   "source": [
    "gain_long.to_csv(\"gain_long.csv\", index=False)\n"
   ]
  }
 ],
 "metadata": {
  "kernelspec": {
   "display_name": "Python 3",
   "language": "python",
   "name": "python3"
  },
  "language_info": {
   "codemirror_mode": {
    "name": "ipython",
    "version": 3
   },
   "file_extension": ".py",
   "mimetype": "text/x-python",
   "name": "python",
   "nbconvert_exporter": "python",
   "pygments_lexer": "ipython3",
   "version": "3.9.6"
  }
 },
 "nbformat": 4,
 "nbformat_minor": 5
}
