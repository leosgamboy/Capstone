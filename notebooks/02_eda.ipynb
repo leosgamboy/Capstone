{
 "cells": [
  {
   "cell_type": "markdown",
   "id": "7ee8dd08",
   "metadata": {},
   "source": [
    "# 02 Exploratory Data Analysis\n",
    "\n",
    "This notebook generates descriptive statistics and plots to explore the merged panel dataset.\n"
   ]
  },
  {
   "cell_type": "code",
   "execution_count": null,
   "id": "874e7f15",
   "metadata": {},
   "outputs": [],
   "source": [
    "\n",
    "import pandas as pd\n",
    "import seaborn as sns\n",
    "import matplotlib.pyplot as plt\n",
    "\n",
    "# Load merged dataset\n",
    "merged = pd.read_csv('../data/merged_panel.csv', parse_dates=['date'])\n",
    "\n",
    "# Summary statistics\n",
    "display(merged.describe(include='all'))\n",
    "\n",
    "# Check missing values\n",
    "plt.figure(figsize=(10,6))\n",
    "sns.heatmap(merged.isnull(), cbar=False)\n",
    "plt.title('Missing Values Heatmap')\n",
    "plt.show()\n",
    "\n",
    "# Plot trends of bond yield and ND-GAIN over time for a sample of countries\n",
    "sample_countries = merged['iso3c'].unique()[:5]  # first 5 countries for example\n",
    "fig, axes = plt.subplots(len(sample_countries), 1, figsize=(10, 3*len(sample_countries)), sharex=True)\n",
    "\n",
    "for ax, country in zip(axes, sample_countries):\n",
    "    data = merged[merged['iso3c'] == country]\n",
    "    ax.plot(data['date'], data['bond_yield'], label='Bond Yield')\n",
    "    ax.set_ylabel('Yield')\n",
    "    ax2 = ax.twinx()\n",
    "    ax2.plot(data['date'], data['nd_gain'], color='orange', label='ND-GAIN')\n",
    "    ax2.set_ylabel('ND-GAIN')\n",
    "    ax.set_title(f'Trends for {country}')\n",
    "\n",
    "plt.xlabel('Date')\n",
    "plt.tight_layout()\n",
    "plt.show()\n",
    "\n",
    "# Correlation matrix\n",
    "numeric_cols = merged.select_dtypes(include=['float64','int64']).columns\n",
    "correlation = merged[numeric_cols].corr()\n",
    "plt.figure(figsize=(12,8))\n",
    "sns.heatmap(correlation, annot=False, cmap='coolwarm')\n",
    "plt.title('Correlation Matrix')\n",
    "plt.show()\n"
   ]
  }
 ],
 "metadata": {},
 "nbformat": 4,
 "nbformat_minor": 5
}
