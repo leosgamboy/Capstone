{
 "cells": [
  {
   "cell_type": "markdown",
   "id": "78a3a415",
   "metadata": {},
   "source": [
    "# 04 Robustness Checks\n",
    "\n",
    "This notebook explores robustness checks for the Double ML results, including alternative machine learning models and subsampling by region or income group.\n"
   ]
  },
  {
   "cell_type": "code",
   "execution_count": null,
   "id": "b831ed86",
   "metadata": {},
   "outputs": [],
   "source": [
    "\n",
    "import pandas as pd\n",
    "from doubleml import DoubleMLData, DoubleMLPLR\n",
    "from sklearn.ensemble import RandomForestRegressor\n",
    "from sklearn.linear_model import Lasso\n",
    "from xgboost import XGBRegressor\n",
    "\n",
    "# Load merged dataset\n",
    "merged = pd.read_csv('../data/merged_panel.csv')\n",
    "\n",
    "# Define outcome, treatment, and controls\n",
    "y_col = 'bond_yield'\n",
    "d_col = 'nd_gain'\n",
    "control_cols = [col for col in merged.columns if col not in ['iso3c', 'date', y_col, d_col]]\n",
    "\n",
    "# Drop missing values\n",
    "model_data = merged.dropna(subset=[y_col, d_col] + control_cols)\n",
    "\n",
    "# Create DoubleMLData object\n",
    "dml_data = DoubleMLData(model_data, y_col=y_col, d_cols=d_col, x_cols=control_cols)\n",
    "\n",
    "# Alternative ML models\n",
    "models = {\n",
    "    'Random Forest': RandomForestRegressor(n_estimators=500, max_depth=5, random_state=42),\n",
    "    'Lasso': Lasso(alpha=0.1),\n",
    "    'XGBoost': XGBRegressor(n_estimators=300, learning_rate=0.05, max_depth=4)\n",
    "}\n",
    "\n",
    "results = {}\n",
    "for name, ml in models.items():\n",
    "    dml_model = DoubleMLPLR(dml_data, ml_g=ml, ml_m=ml)\n",
    "    dml_model.fit()\n",
    "    results[name] = dml_model.summary\n",
    "    print(f\"\n",
    "{name} Results:\")\n",
    "    print(dml_model.summary)\n",
    "\n",
    "# TODO: Add subsampling by region/income group and include fixed effects if needed\n"
   ]
  }
 ],
 "metadata": {},
 "nbformat": 4,
 "nbformat_minor": 5
}
